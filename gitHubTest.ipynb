{
 "cells": [
  {
   "cell_type": "code",
   "execution_count": 1,
   "id": "74087227-1f41-40a1-b1ec-6f40e8533a81",
   "metadata": {},
   "outputs": [
    {
     "name": "stdout",
     "output_type": "stream",
     "text": [
      "Hello gitHub\n"
     ]
    }
   ],
   "source": [
    "print('Hello gitHub')"
   ]
  },
  {
   "cell_type": "code",
   "execution_count": null,
   "id": "55b27c69-efb2-4235-b3fc-f6a80f889447",
   "metadata": {},
   "outputs": [],
   "source": []
  }
 ],
 "metadata": {
  "kernelspec": {
   "display_name": "Python [conda env:base] *",
   "language": "python",
   "name": "conda-base-py"
  },
  "language_info": {
   "codemirror_mode": {
    "name": "ipython",
    "version": 3
   },
   "file_extension": ".py",
   "mimetype": "text/x-python",
   "name": "python",
   "nbconvert_exporter": "python",
   "pygments_lexer": "ipython3",
   "version": "3.13.5"
  }
 },
 "nbformat": 4,
 "nbformat_minor": 5
}
